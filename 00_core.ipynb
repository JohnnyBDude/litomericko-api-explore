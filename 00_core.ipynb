{
 "cells": [
  {
   "cell_type": "code",
   "execution_count": null,
   "metadata": {},
   "outputs": [],
   "source": [
    "# default_exp core"
   ]
  },
  {
   "cell_type": "markdown",
   "metadata": {},
   "source": [
    "# litomericko-api-explore\n",
    "\n",
    "> API details."
   ]
  },
  {
   "cell_type": "code",
   "execution_count": 4,
   "metadata": {},
   "outputs": [],
   "source": [
    "#hide\n",
    "from nbdev.showdoc import *\n",
    "import requests"
   ]
  },
  {
   "cell_type": "markdown",
   "metadata": {},
   "source": [
    "## O API\n",
    "\n",
    "Api by melo zpistupnovat nejruznejsi informace o businessu v ltm. mimo jine podniky, jejich polohy a oblasti cinnosti.\n",
    "\n",
    "dokumentace API se nachazi na adrese - https://litomericko-api.cz/api/doc"
   ]
  },
  {
   "cell_type": "code",
   "execution_count": 6,
   "metadata": {},
   "outputs": [],
   "source": [
    "base_url = \"https://litomericko-api.cz\""
   ]
  },
  {
   "cell_type": "markdown",
   "metadata": {},
   "source": [
    "# Firmy"
   ]
  },
  {
   "cell_type": "markdown",
   "metadata": {},
   "source": [
    "## Kategorie firem\n",
    "\n",
    "Firmy jsou rozdělené do kategorií podle oblasti činnosti"
   ]
  },
  {
   "cell_type": "code",
   "execution_count": 26,
   "metadata": {},
   "outputs": [],
   "source": [
    "company_categories_url = f\"{base_url}/api/v1/companyCategories\""
   ]
  },
  {
   "cell_type": "code",
   "execution_count": 36,
   "metadata": {},
   "outputs": [
    {
     "data": {
      "text/plain": [
       "[{'id': 1, 'title': 'Obchody a služby', 'slug': 'obchody-a-sluby'},\n",
       " {'id': 2, 'title': 'Obchodní řetězce', 'slug': 'obchodni-retezce'},\n",
       " {'id': 3, 'title': 'Stavebniny', 'slug': 'stavebniny'},\n",
       " {'id': 4,\n",
       "  'title': 'Ubytování, stravování, občerstvení',\n",
       "  'slug': 'stravovani_obcerstveni'},\n",
       " {'id': 5, 'title': 'Maloobchody', 'slug': 'maloobchody'},\n",
       " {'id': 7, 'title': 'Finanční služby', 'slug': 'financni-sluzby'},\n",
       " {'id': 8, 'title': 'Služby, řemesla', 'slug': 'sluzby_remesla'},\n",
       " {'id': 9, 'title': 'Elektronika', 'slug': 'elektronika'},\n",
       " {'id': 10, 'title': 'Instituce', 'slug': 'instituce'},\n",
       " {'id': 11, 'title': 'Zdravotnictví', 'slug': 'zdravotnictvi'},\n",
       " {'id': 12, 'title': 'Velkoobchody', 'slug': 'velkoobchody'},\n",
       " {'id': 13, 'title': 'Domácnost', 'slug': 'domacnost'},\n",
       " {'id': 14, 'title': 'Zahrada', 'slug': 'zahrada'},\n",
       " {'id': 15, 'title': 'Neziskove organizace', 'slug': 'neziskove-organizace'},\n",
       " {'id': 16, 'title': 'Ostatní', 'slug': 'ostatni'},\n",
       " {'id': 17, 'title': 'Školství ', 'slug': 'skolstvi'}]"
      ]
     },
     "execution_count": 36,
     "metadata": {},
     "output_type": "execute_result"
    }
   ],
   "source": [
    "company_categories = requests.get(company_categories_url).json()\n",
    "company_categories"
   ]
  },
  {
   "cell_type": "code",
   "execution_count": 32,
   "metadata": {},
   "outputs": [
    {
     "name": "stdout",
     "output_type": "stream",
     "text": [
      "1 - Obchody a služby (obchody-a-sluby)\n",
      "2 - Obchodní řetězce (obchodni-retezce)\n",
      "3 - Stavebniny (stavebniny)\n",
      "4 - Ubytování, stravování, občerstvení (stravovani_obcerstveni)\n",
      "5 - Maloobchody (maloobchody)\n",
      "7 - Finanční služby (financni-sluzby)\n",
      "8 - Služby, řemesla (sluzby_remesla)\n",
      "9 - Elektronika (elektronika)\n",
      "10 - Instituce (instituce)\n",
      "11 - Zdravotnictví (zdravotnictvi)\n",
      "12 - Velkoobchody (velkoobchody)\n",
      "13 - Domácnost (domacnost)\n",
      "14 - Zahrada (zahrada)\n",
      "15 - Neziskove organizace (neziskove-organizace)\n",
      "16 - Ostatní (ostatni)\n",
      "17 - Školství  (skolstvi)\n"
     ]
    }
   ],
   "source": [
    "for c in company_categories:\n",
    "    print(f\"{c['id']} - {c['title']} ({c['slug']})\")"
   ]
  },
  {
   "cell_type": "markdown",
   "metadata": {},
   "source": [
    "# Získání seznamu firem"
   ]
  },
  {
   "cell_type": "code",
   "execution_count": 72,
   "metadata": {},
   "outputs": [],
   "source": [
    "limit = 100000000 # Kolik zaznamu najednou.\n",
    "offset = 0 # O kolik posunout od zacatku.\n",
    "\n",
    "companies_url  = f\"{base_url}/api/v1/companies/limit/{limit}/offset/{offset}\""
   ]
  },
  {
   "cell_type": "code",
   "execution_count": 73,
   "metadata": {},
   "outputs": [
    {
     "data": {
      "text/plain": [
       "'https://litomericko-api.cz/api/v1/companies/limit/100000000/offset/0'"
      ]
     },
     "execution_count": 73,
     "metadata": {},
     "output_type": "execute_result"
    }
   ],
   "source": [
    "companies_url"
   ]
  },
  {
   "cell_type": "code",
   "execution_count": 74,
   "metadata": {},
   "outputs": [],
   "source": [
    "params = {\n",
    "    'categories': [x['slug'] for x in company_categories]\n",
    "}"
   ]
  },
  {
   "cell_type": "code",
   "execution_count": 75,
   "metadata": {},
   "outputs": [
    {
     "data": {
      "text/plain": [
       "{'categories': ['obchody-a-sluby',\n",
       "  'obchodni-retezce',\n",
       "  'stavebniny',\n",
       "  'stravovani_obcerstveni',\n",
       "  'maloobchody',\n",
       "  'financni-sluzby',\n",
       "  'sluzby_remesla',\n",
       "  'elektronika',\n",
       "  'instituce',\n",
       "  'zdravotnictvi',\n",
       "  'velkoobchody',\n",
       "  'domacnost',\n",
       "  'zahrada',\n",
       "  'neziskove-organizace',\n",
       "  'ostatni',\n",
       "  'skolstvi']}"
      ]
     },
     "execution_count": 75,
     "metadata": {},
     "output_type": "execute_result"
    }
   ],
   "source": [
    "params"
   ]
  },
  {
   "cell_type": "code",
   "execution_count": 76,
   "metadata": {},
   "outputs": [
    {
     "data": {
      "text/plain": [
       "<Response [200]>"
      ]
     },
     "execution_count": 76,
     "metadata": {},
     "output_type": "execute_result"
    }
   ],
   "source": [
    "r = requests.post(companies_url, json=params)\n",
    "r"
   ]
  },
  {
   "cell_type": "code",
   "execution_count": 78,
   "metadata": {},
   "outputs": [],
   "source": [
    "companies = r.json()"
   ]
  },
  {
   "cell_type": "code",
   "execution_count": 79,
   "metadata": {},
   "outputs": [
    {
     "data": {
      "text/plain": [
       "185"
      ]
     },
     "execution_count": 79,
     "metadata": {},
     "output_type": "execute_result"
    }
   ],
   "source": [
    "len(companies)"
   ]
  },
  {
   "cell_type": "code",
   "execution_count": 80,
   "metadata": {},
   "outputs": [
    {
     "data": {
      "text/plain": [
       "{'id': 19,\n",
       " 'latitude': 50.5350368,\n",
       " 'longitude': 14.1318168,\n",
       " 'title': 'Kožíšek Re/Max a tým',\n",
       " 'address': 'Novobranská 75/3, Město, 412 01 Litoměřice',\n",
       " 'image_url': 'https://litomericko-api.cz/uploads/images/5bf0f32eceff85511d0e55497948315e.jpeg',\n",
       " 'description': 'Naši litoměřickou kancelář najdete v malebné uličce historického srdce města, které je památkově chráněno. Novobranská ulice vede přímo na Mírové náměstí, které je od nás jen pár kroků. Při příchodu vás uvítá naše asistentka a uvede vás do prosvětlených kanceláří, kde se vám budeme věnovat. Těšíme se na návštěvu!',\n",
       " 'type': 'company',\n",
       " 'company_category_id': 1,\n",
       " 'business_hours': '8:30–17',\n",
       " 'phone_number': '+420 777 00 60 23',\n",
       " 'email': 'kozisek.team@re-max.cz'}"
      ]
     },
     "execution_count": 80,
     "metadata": {},
     "output_type": "execute_result"
    }
   ],
   "source": [
    "companies[0]"
   ]
  },
  {
   "cell_type": "code",
   "execution_count": null,
   "metadata": {},
   "outputs": [],
   "source": []
  }
 ],
 "metadata": {
  "kernelspec": {
   "display_name": "Python 3",
   "language": "python",
   "name": "python3"
  },
  "language_info": {
   "codemirror_mode": {
    "name": "ipython",
    "version": 3
   },
   "file_extension": ".py",
   "mimetype": "text/x-python",
   "name": "python",
   "nbconvert_exporter": "python",
   "pygments_lexer": "ipython3",
   "version": "3.7.6"
  }
 },
 "nbformat": 4,
 "nbformat_minor": 2
}
